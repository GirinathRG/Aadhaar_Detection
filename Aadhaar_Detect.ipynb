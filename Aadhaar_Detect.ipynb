{
  "cells": [
    {
      "cell_type": "code",
      "execution_count": null,
      "metadata": {
        "colab": {
          "base_uri": "https://localhost:8080/"
        },
        "id": "cltEHUD4Y4hz",
        "outputId": "2f6eaa6f-a475-44b6-b495-8bc6a0aba71c"
      },
      "outputs": [
        {
          "output_type": "stream",
          "name": "stdout",
          "text": [
            "Requirement already satisfied: kaggle in /usr/local/lib/python3.10/dist-packages (1.5.16)\n",
            "Requirement already satisfied: six>=1.10 in /usr/local/lib/python3.10/dist-packages (from kaggle) (1.16.0)\n",
            "Requirement already satisfied: certifi in /usr/local/lib/python3.10/dist-packages (from kaggle) (2023.11.17)\n",
            "Requirement already satisfied: python-dateutil in /usr/local/lib/python3.10/dist-packages (from kaggle) (2.8.2)\n",
            "Requirement already satisfied: requests in /usr/local/lib/python3.10/dist-packages (from kaggle) (2.31.0)\n",
            "Requirement already satisfied: tqdm in /usr/local/lib/python3.10/dist-packages (from kaggle) (4.66.1)\n",
            "Requirement already satisfied: python-slugify in /usr/local/lib/python3.10/dist-packages (from kaggle) (8.0.1)\n",
            "Requirement already satisfied: urllib3 in /usr/local/lib/python3.10/dist-packages (from kaggle) (2.0.7)\n",
            "Requirement already satisfied: bleach in /usr/local/lib/python3.10/dist-packages (from kaggle) (6.1.0)\n",
            "Requirement already satisfied: webencodings in /usr/local/lib/python3.10/dist-packages (from bleach->kaggle) (0.5.1)\n",
            "Requirement already satisfied: text-unidecode>=1.3 in /usr/local/lib/python3.10/dist-packages (from python-slugify->kaggle) (1.3)\n",
            "Requirement already satisfied: charset-normalizer<4,>=2 in /usr/local/lib/python3.10/dist-packages (from requests->kaggle) (3.3.2)\n",
            "Requirement already satisfied: idna<4,>=2.5 in /usr/local/lib/python3.10/dist-packages (from requests->kaggle) (3.6)\n"
          ]
        }
      ],
      "source": [
        "!pip install kaggle"
      ]
    },
    {
      "cell_type": "code",
      "execution_count": null,
      "metadata": {
        "id": "4cNOMwNlY51i"
      },
      "outputs": [],
      "source": [
        "#configurating the path of kaggle.json file\n",
        "!mkdir -p ~/.kaggle\n",
        "!cp kaggle.json ~/.kaggle/\n",
        "!chmod 600 ~/.kaggle/kaggle.json"
      ]
    },
    {
      "cell_type": "code",
      "execution_count": null,
      "metadata": {
        "colab": {
          "base_uri": "https://localhost:8080/"
        },
        "id": "r97aFlSvY6PK",
        "outputId": "d8bb5845-e38c-419b-ec4f-f01703771cff"
      },
      "outputs": [
        {
          "output_type": "stream",
          "name": "stdout",
          "text": [
            "Downloading aadhaar-datasets.zip to /content\n",
            " 95% 353M/370M [00:05<00:00, 85.0MB/s]\n",
            "100% 370M/370M [00:05<00:00, 74.4MB/s]\n"
          ]
        }
      ],
      "source": [
        "!kaggle datasets download -d girinathrs211555/aadhaar-datasets"
      ]
    },
    {
      "cell_type": "code",
      "execution_count": null,
      "metadata": {
        "colab": {
          "base_uri": "https://localhost:8080/"
        },
        "id": "ldpGjSwRZFmR",
        "outputId": "89eb0ace-dba4-49a1-8b1e-fb340927662d"
      },
      "outputs": [
        {
          "output_type": "stream",
          "name": "stdout",
          "text": [
            "The dataset is extracted\n"
          ]
        }
      ],
      "source": [
        "# extrcing the compossed Dataset\n",
        "from zipfile import ZipFile\n",
        "dataset = '/content/aadhaar-datasets.zip'\n",
        "\n",
        "with ZipFile(dataset,'r') as zip:\n",
        "  zip.extractall()\n",
        "  print('The dataset is extracted')"
      ]
    },
    {
      "cell_type": "code",
      "execution_count": null,
      "metadata": {
        "id": "9T_uqwH3RqYp"
      },
      "outputs": [],
      "source": [
        "import os\n",
        "import numpy as np\n",
        "import matplotlib.pyplot as plt\n",
        "import matplotlib.image as mpimg\n",
        "import cv2\n",
        "from google.colab.patches import cv2_imshow\n",
        "from PIL import Image\n",
        "from sklearn.model_selection import train_test_split"
      ]
    },
    {
      "cell_type": "code",
      "execution_count": null,
      "metadata": {
        "colab": {
          "base_uri": "https://localhost:8080/"
        },
        "id": "5i2eLSE1RyDF",
        "outputId": "9a7eecaf-47bb-4d22-d388-cf5841425f12"
      },
      "outputs": [
        {
          "output_type": "stream",
          "name": "stdout",
          "text": [
            "['Aadhaar_card (2475).jpg', 'Aadhaar_card (52).jpg', 'Aadhaar_card (1715).jpg', 'Aadhaar_card (3385).jpg', 'Aadhaar_card (2635).jpg']\n",
            "['Aadhaar_card (138).jpg', 'Aadhaar_card (2266).jpg', 'Aadhaar_card (3501).jpg', 'Aadhaar_card (3356).jpg', 'Aadhaar_card (4094).jpg']\n"
          ]
        }
      ],
      "source": [
        "Aadhaar_card_files = os.listdir('/content/Aaadhaar AND Non aadhaar/Aadhaar')\n",
        "print(Aadhaar_card_files[0:5])\n",
        "\n",
        "print(Aadhaar_card_files[-5:])"
      ]
    },
    {
      "cell_type": "code",
      "execution_count": null,
      "metadata": {
        "colab": {
          "base_uri": "https://localhost:8080/"
        },
        "id": "mYsM2XyJR5Ht",
        "outputId": "0d090203-e0e0-4d41-9f18-0ed864840777"
      },
      "outputs": [
        {
          "output_type": "stream",
          "name": "stdout",
          "text": [
            "['Non_Aadhaar  (3236).jpg', 'Non_Aadhaar  (1631).jpg', 'Non_Aadhaar  (709).jfif', 'Non_Aadhaar  (2279).jpg', 'Non_Aadhaar  (626).jpg']\n",
            "['Non_Aadhaar  (1814).jpg', 'Non_Aadhaar  (598).jfif', 'Non_Aadhaar  (1013).jpg', 'Non_Aadhaar  (42).jfif', 'Non_Aadhaar  (743).jfif']\n"
          ]
        }
      ],
      "source": [
        "Non_aadhaar_card_files = os.listdir('/content/Aaadhaar AND Non aadhaar/Non Aadhaar')\n",
        "print(Non_aadhaar_card_files[0:5])\n",
        "\n",
        "print(Non_aadhaar_card_files[-5:])"
      ]
    },
    {
      "cell_type": "code",
      "execution_count": null,
      "metadata": {
        "colab": {
          "base_uri": "https://localhost:8080/"
        },
        "id": "3hX6uT4aiwve",
        "outputId": "abc997a8-2504-4193-b67b-9b3d751d881a"
      },
      "outputs": [
        {
          "output_type": "stream",
          "name": "stdout",
          "text": [
            "Number of with Aadhaar_card_files: 5009\n",
            "Number of without Non_aadhaar_card_files: 5021\n"
          ]
        }
      ],
      "source": [
        "print('Number of with Aadhaar_card_files:', len(Aadhaar_card_files))\n",
        "print('Number of without Non_aadhaar_card_files:', len(Non_aadhaar_card_files))"
      ]
    },
    {
      "cell_type": "code",
      "execution_count": null,
      "metadata": {
        "id": "TS8X04UKSCmr"
      },
      "outputs": [],
      "source": [
        "#create the labels\n",
        "\n",
        "Aadhaar_card_labels = [1]*5009\n",
        "\n",
        "Non_aadhaar_card_labels = [0]*5021"
      ]
    },
    {
      "cell_type": "code",
      "execution_count": null,
      "metadata": {
        "colab": {
          "base_uri": "https://localhost:8080/"
        },
        "id": "NRQUhij6SHz8",
        "outputId": "df090c4c-2971-45ed-a41b-a5bc975fa3f9"
      },
      "outputs": [
        {
          "output_type": "stream",
          "name": "stdout",
          "text": [
            "[1, 1, 1, 1, 1]\n",
            "[0, 0, 0, 0, 0]\n"
          ]
        }
      ],
      "source": [
        "# Checking wheather the labels are created as expected\n",
        "print(Aadhaar_card_labels[0:5])\n",
        "\n",
        "print(Non_aadhaar_card_labels[0:5])"
      ]
    },
    {
      "cell_type": "code",
      "execution_count": null,
      "metadata": {
        "colab": {
          "base_uri": "https://localhost:8080/"
        },
        "id": "z3tODrpWSPhy",
        "outputId": "a72ee01a-ec30-43e5-b097-6a12819a38a4"
      },
      "outputs": [
        {
          "output_type": "stream",
          "name": "stdout",
          "text": [
            "10030\n",
            "[1, 1, 1, 1, 1]\n",
            "[0, 0, 0, 0, 0]\n"
          ]
        }
      ],
      "source": [
        "# I am Concanating  the  two class as labels\n",
        "\n",
        "labels = Aadhaar_card_labels + Non_aadhaar_card_labels\n",
        "\n",
        "print(len(labels))\n",
        "print(labels[0:5])\n",
        "print(labels[-5:])"
      ]
    },
    {
      "cell_type": "code",
      "execution_count": null,
      "metadata": {
        "id": "KD1vGK_bSSQV"
      },
      "outputs": [],
      "source": [
        "# Convert images to numpy arrays\n",
        "\n",
        "Aadhaar_card__path = '/content/Aaadhaar AND Non aadhaar/Aadhaar/'\n",
        "\n",
        "data = []\n",
        "for img_file in Aadhaar_card_files:\n",
        "\n",
        "  image = Image.open(Aadhaar_card__path + img_file)\n",
        "  image = image.resize((128,128))\n",
        "  image = image.convert(\"RGB\")\n",
        "  image = np.array(image)\n",
        "  data.append(image)\n",
        "\n",
        "\n",
        "Non_aadhaar_card_path = '/content/Aaadhaar AND Non aadhaar/Non Aadhaar/'\n",
        "\n",
        "for img_file in Non_aadhaar_card_files:\n",
        "\n",
        "  image = Image.open(Non_aadhaar_card_path + img_file)\n",
        "  image = image.resize((128,128))\n",
        "  image = image.convert(\"RGB\")\n",
        "  image = np.array(image)\n",
        "  data.append(image)"
      ]
    },
    {
      "cell_type": "code",
      "execution_count": null,
      "metadata": {
        "id": "CiuF5jiPSp4W"
      },
      "outputs": [],
      "source": [
        "# Coverting image list and the label list to numpy arrays\n",
        "\n",
        "X = np.array(data)\n",
        "Y = np.array(labels)"
      ]
    },
    {
      "cell_type": "code",
      "execution_count": null,
      "metadata": {
        "colab": {
          "base_uri": "https://localhost:8080/"
        },
        "id": "irb4mM7kiOwH",
        "outputId": "b3f45481-3488-41f5-cb3f-e94073270e85"
      },
      "outputs": [
        {
          "output_type": "execute_result",
          "data": {
            "text/plain": [
              "numpy.ndarray"
            ]
          },
          "metadata": {},
          "execution_count": 14
        }
      ],
      "source": [
        "type(X)"
      ]
    },
    {
      "cell_type": "code",
      "execution_count": null,
      "metadata": {
        "colab": {
          "base_uri": "https://localhost:8080/"
        },
        "id": "x6svNbwjiSx8",
        "outputId": "7e179b3a-3a1e-42c6-add7-bcfbdb650bf7"
      },
      "outputs": [
        {
          "output_type": "execute_result",
          "data": {
            "text/plain": [
              "numpy.ndarray"
            ]
          },
          "metadata": {},
          "execution_count": 15
        }
      ],
      "source": [
        "type(Y)"
      ]
    },
    {
      "cell_type": "code",
      "execution_count": null,
      "metadata": {
        "colab": {
          "base_uri": "https://localhost:8080/"
        },
        "id": "JxF68BZCiYUy",
        "outputId": "d7c8ab9e-de63-414a-9180-abfea67eea23"
      },
      "outputs": [
        {
          "output_type": "stream",
          "name": "stdout",
          "text": [
            "(10030, 128, 128, 3)\n",
            "(10030,)\n"
          ]
        }
      ],
      "source": [
        "print(X.shape)\n",
        "print(Y.shape)"
      ]
    },
    {
      "cell_type": "code",
      "execution_count": null,
      "metadata": {
        "colab": {
          "base_uri": "https://localhost:8080/"
        },
        "id": "jbysP44uikbc",
        "outputId": "88e8a54d-23ff-4224-f373-f0230157f803"
      },
      "outputs": [
        {
          "output_type": "stream",
          "name": "stdout",
          "text": [
            "[1 1 1 ... 0 0 0]\n"
          ]
        }
      ],
      "source": [
        "print(Y)"
      ]
    },
    {
      "cell_type": "code",
      "execution_count": null,
      "metadata": {
        "id": "vkloQnkgS2I-"
      },
      "outputs": [],
      "source": [
        "X_train, X_test, Y_train, Y_test = train_test_split(X, Y, test_size=0.2, random_state=2)"
      ]
    },
    {
      "cell_type": "code",
      "execution_count": null,
      "metadata": {
        "id": "wffuIz4US4As"
      },
      "outputs": [],
      "source": [
        "#Scaling the data\n",
        "\n",
        "X_train_scaled = X_train/255\n",
        "\n",
        "X_test_scaled = X_test/255"
      ]
    },
    {
      "cell_type": "code",
      "execution_count": null,
      "metadata": {
        "id": "uDWg0HAsS9mZ"
      },
      "outputs": [],
      "source": [
        "import tensorflow as tf\n",
        "from tensorflow import keras"
      ]
    },
    {
      "cell_type": "code",
      "execution_count": null,
      "metadata": {
        "id": "TQdeQddgTKDy"
      },
      "outputs": [],
      "source": [
        "num_of_classes = 2\n",
        "\n",
        "model = keras.Sequential()\n",
        "\n",
        "model.add(keras.layers.Conv2D(300, kernel_size=(3,3), activation='relu', input_shape=(128,128,3)))\n",
        "model.add(keras.layers.MaxPooling2D(pool_size=(2,2)))\n",
        "\n",
        "model.add(keras.layers.Conv2D(600, kernel_size=(3,3), activation='relu'))\n",
        "model.add(keras.layers.MaxPooling2D(pool_size=(2,2)))\n",
        "\n",
        "model.add(keras.layers.Conv2D(800, kernel_size=(3,3), activation='relu'))\n",
        "model.add(keras.layers.MaxPooling2D(pool_size=(2,2)))\n",
        "\n",
        "model.add(keras.layers.Flatten())\n",
        "\n",
        "model.add(keras.layers.Dense(128, activation='relu'))\n",
        "model.add(keras.layers.Dropout(0.5))\n",
        "\n",
        "model.add(keras.layers.Dense(64, activation='relu'))\n",
        "model.add(keras.layers.Dropout(0.5))\n",
        "\n",
        "model.add(keras.layers.Dense(num_of_classes, activation='sigmoid'))"
      ]
    },
    {
      "cell_type": "code",
      "execution_count": null,
      "metadata": {
        "id": "YmvD4hHsTVo6"
      },
      "outputs": [],
      "source": [
        "# Compile the neural network\n",
        "\n",
        "model.compile(optimizer='adam',\n",
        "              loss='sparse_categorical_crossentropy',\n",
        "              metrics=['acc'])"
      ]
    },
    {
      "cell_type": "code",
      "execution_count": null,
      "metadata": {
        "colab": {
          "background_save": true,
          "base_uri": "https://localhost:8080/"
        },
        "id": "VhB4bwkBTeOs",
        "outputId": "12393b34-46c3-46de-9449-1c0469207d24"
      },
      "outputs": [
        {
          "metadata": {
            "tags": null
          },
          "name": "stdout",
          "output_type": "stream",
          "text": [
            "Epoch 1/5\n",
            " 32/201 [===>..........................] - ETA: 1:45:56 - loss: 1.0779 - acc: 0.5195"
          ]
        }
      ],
      "source": [
        "#traing the neural network\n",
        "history = model.fit(X_train_scaled, Y_train, validation_split=0.2, epochs=5)"
      ]
    },
    {
      "cell_type": "code",
      "execution_count": null,
      "metadata": {
        "id": "IK3QlnGdqAvj"
      },
      "outputs": [],
      "source": [
        "loss, accuracy = model.evaluate(X_test_scaled, Y_test)\n",
        "print('Test Accuracy=', accuracy)"
      ]
    },
    {
      "cell_type": "code",
      "execution_count": null,
      "metadata": {
        "id": "hy_TqZySqB65"
      },
      "outputs": [],
      "source": [
        "h = history\n",
        "\n",
        "#plot the loss value\n",
        "plt.plot(h.history['loss'], label='train loss')\n",
        "plt.plot(h.history['val_loss'], label='validation loss')\n",
        "plt.legend()\n",
        "plt.show()\n",
        "\n",
        "#plot the accuracy value\n",
        "plt.plot(h.history['acc'], label='train accuracy')\n",
        "plt.plot(h.history['val_acc'], label='validation accuracy')\n",
        "plt.legend()\n",
        "plt.show()"
      ]
    },
    {
      "cell_type": "code",
      "execution_count": null,
      "metadata": {
        "id": "ZLgcicKtqcKA"
      },
      "outputs": [],
      "source": [
        "input_image_path = input('Path of the image to be predicted: ')\n",
        "\n",
        "input_image = cv2.imread(input_image_path)\n",
        "\n",
        "cv2_imshow(input_image)\n",
        "\n",
        "input_image_resized = cv2.resize(input_image, (128, 128))\n",
        "\n",
        "input_image_scaled = input_image_resized/255\n",
        "\n",
        "input_image_reshaped = np.reshape(input_image_scaled, [1,128,128,3])\n",
        "\n",
        "input_prediction = model.predict(input_image_reshaped)\n",
        "\n",
        "print(input_prediction)\n",
        "\n",
        "input_pred_label = np.argmax(input_prediction)\n",
        "\n",
        "print(input_pred_label)\n",
        "\n",
        "if input_pred_label == 1:\n",
        "\n",
        "  print('This is an aadhaar card')\n",
        "\n",
        "else:\n",
        "\n",
        "  print('This not an aadhaar card')\n"
      ]
    }
  ],
  "metadata": {
    "accelerator": "GPU",
    "colab": {
      "provenance": []
    },
    "kernelspec": {
      "display_name": "Python 3",
      "name": "python3"
    },
    "language_info": {
      "name": "python"
    }
  },
  "nbformat": 4,
  "nbformat_minor": 0
}